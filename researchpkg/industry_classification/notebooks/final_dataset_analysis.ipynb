{
 "cells": [
  {
   "cell_type": "markdown",
   "id": "99ae5097-321c-4293-8d66-3902647ddc97",
   "metadata": {},
   "source": [
    "# Analysing text transformer dataset "
   ]
  },
  {
   "cell_type": "code",
   "execution_count": null,
   "id": "26d388f9-d891-4009-b40b-d4c19d75b46e",
   "metadata": {},
   "outputs": [],
   "source": [
    "%load_ext autoreload"
   ]
  },
  {
   "cell_type": "markdown",
   "id": "8c9c1f2e-0216-4b6c-93cd-25318675aa91",
   "metadata": {},
   "source": [
    "## Librairies"
   ]
  },
  {
   "cell_type": "code",
   "execution_count": null,
   "id": "439836f8-c0da-42e6-b20e-74b2b68d555f",
   "metadata": {},
   "outputs": [],
   "source": [
    "import sys, os\n",
    "sys.path.append(\"..\")\n",
    "import pandas as pd \n",
    "from researchpkg.industry_classification.dataset.sec_datamodule import DatasetType\n"
   ]
  },
  {
   "cell_type": "markdown",
   "id": "72a47bec-4889-43a1-ae99-152ba78b11c7",
   "metadata": {},
   "source": [
    "## Loading dataset"
   ]
  },
  {
   "cell_type": "code",
   "execution_count": null,
   "id": "7b49ff3d-3a47-42ca-a1ed-ba920bfe1668",
   "metadata": {},
   "outputs": [],
   "source": [
    "from researchpkg.industry_classification.config import ROOT_DIR\n",
    "DATASET_DIR =os.path.join(ROOT_DIR,\"data/sec_data_v2/count30_sic1agg_including_is_2023\")"
   ]
  },
  {
   "cell_type": "code",
   "execution_count": null,
   "id": "44db6eee977a949a",
   "metadata": {},
   "outputs": [],
   "source": [
    "MODEL  = \"meta-llama/Llama-2-7b-hf\"\n",
    "TOKEN  =\"\" #Put your hugingface token here"
   ]
  },
  {
   "cell_type": "code",
   "execution_count": null,
   "id": "c128a7ef-af73-490f-bb04-1002daa30488",
   "metadata": {},
   "outputs": [],
   "source": [
    "import huggingface_hub\n",
    "huggingface_hub.login(token=TOKEN)\n",
    "#Create tokenizer form bert\n",
    "from transformers import  AutoTokenizer\n",
    "\n",
    "tokenizer = AutoTokenizer.from_pretrained(MODEL)\n",
    "tokenizer.pad_token = tokenizer.eos_token\n",
    "tokenizer.padding_side = \"left\""
   ]
  },
  {
   "cell_type": "markdown",
   "id": "10101657-5f79-4fa6-9570-087808f169a6",
   "metadata": {},
   "source": [
    "## 1. Descriptive template"
   ]
  },
  {
   "cell_type": "code",
   "execution_count": null,
   "id": "d5675783-6f6a-4994-b5eb-7e4435893b0e",
   "metadata": {},
   "outputs": [],
   "source": [
    "%autoreload\n",
    "from researchpkg.industry_classification.dataset.sec_transformer_datamodule import SecTextTransformerDataset, TextTransformerTemplateType\n",
    "desc_dataset  = SecTextTransformerDataset(\n",
    "            dataset_dir= DATASET_DIR,\n",
    "            type=DatasetType.TEST,\n",
    "            tokenizer=tokenizer,\n",
    "            sic_digits=1,\n",
    "            seq_max_length=1750,\n",
    "            balance_sampling=False,\n",
    "            load_in_memory=False,\n",
    "            template_type=TextTransformerTemplateType.RAW  ,\n",
    "            max_tag_depth=5\n",
    "        )\n",
    "\n",
    "desc_dataset_relative  = SecTextTransformerDataset(\n",
    "            dataset_dir= DATASET_DIR,\n",
    "            type=DatasetType.TEST,\n",
    "            tokenizer=tokenizer,\n",
    "            sic_digits=1,\n",
    "            seq_max_length=1750,\n",
    "            balance_sampling=False,\n",
    "            load_in_memory=False,\n",
    "            template_type=TextTransformerTemplateType.DESCRIPTIVE  ,\n",
    "            max_tag_depth=5\n",
    "        )"
   ]
  },
  {
   "cell_type": "markdown",
   "id": "1b30efac",
   "metadata": {},
   "source": [
    "### Distribution of dataset size (number of tags)"
   ]
  },
  {
   "cell_type": "code",
   "execution_count": null,
   "id": "5d799a40",
   "metadata": {},
   "outputs": [],
   "source": [
    "import tqdm\n",
    "import matplotlib.pyplot as plt\n",
    "dataset_size = [desc_dataset[i][\"n_tags\"] for i in tqdm.tqdm(range(len(desc_dataset)))]\n"
   ]
  },
  {
   "cell_type": "code",
   "execution_count": null,
   "id": "10fcc4b2",
   "metadata": {},
   "outputs": [],
   "source": [
    "import seaborn as sns\n",
    "sns.histplot(dataset_size,bins=50, kde=True)"
   ]
  },
  {
   "cell_type": "markdown",
   "id": "59a07389",
   "metadata": {},
   "source": [
    "### Displaying single samples"
   ]
  },
  {
   "cell_type": "code",
   "execution_count": null,
   "id": "39eccfbea82ff999",
   "metadata": {},
   "outputs": [],
   "source": [
    "i_small_sample = 1500 # I is chosen with the code below a sample having not too many tags.\n",
    "import random\n",
    "# while True:\n",
    "#     i = random.choice(list(range(len(desc_dataset))))\n",
    "#     sample = desc_dataset.__getitem__(i,verbose=False)\n",
    "#     if sample[\"length\"]>00:\n",
    "#         continue\n",
    "#     i_small_sample = i\n",
    "#     break\n",
    "\n",
    "sample = desc_dataset.__getitem__(i_small_sample,verbose=True)\n",
    "print(\"file \", desc_dataset.data_files[i_small_sample])\n"
   ]
  },
  {
   "cell_type": "code",
   "execution_count": null,
   "id": "773f2a79",
   "metadata": {},
   "outputs": [],
   "source": [
    "df=sample[\"df\"]\n",
    "df[\"amount\"]= df[\"net_change\"]\n",
    "df[[\"tag\",\"amount\"]]"
   ]
  },
  {
   "cell_type": "code",
   "execution_count": null,
   "id": "7530312e",
   "metadata": {},
   "outputs": [],
   "source": [
    "# Same sample using relative template(\"Descriptive\")\n",
    "sample = sample = desc_dataset_relative.__getitem__(i_small_sample,verbose=True)"
   ]
  },
  {
   "cell_type": "markdown",
   "id": "747e97d62db5ad7e",
   "metadata": {},
   "source": [
    "### Taxonomy tree tags"
   ]
  },
  {
   "cell_type": "code",
   "execution_count": null,
   "id": "dc535537c652905a",
   "metadata": {},
   "outputs": [],
   "source": [
    "taxonomy_tree = desc_dataset.bs_taxonomy_tree.root_trees[1]\n",
    "# nodes= [node for node in taxonomy_tree]\n",
    "# nodes = sorted(nodes, key=lambda x: x.number)\n",
    "# for node in nodes:\n",
    "#     print(node.concept_name, end=\", \")\n",
    "taxonomy_tree.display()"
   ]
  },
  {
   "cell_type": "code",
   "execution_count": null,
   "id": "ca3c5c0f-4b8a-4608-a201-b7c8b5963c84",
   "metadata": {},
   "outputs": [],
   "source": [
    "income_statement_calculation_tree = desc_dataset.is_taxonomy_tree\n",
    "income_statement_calculation_tree.max"
   ]
  },
  {
   "cell_type": "code",
   "execution_count": null,
   "id": "cc8ab2a2d2e1ec64",
   "metadata": {},
   "outputs": [],
   "source": []
  },
  {
   "cell_type": "code",
   "execution_count": null,
   "id": "ca28922819bd0e78",
   "metadata": {},
   "outputs": [],
   "source": [
    "from researchpkg.industry_classification.preprocessing.gaap_taxonomy_parser import (\n",
    "    CalculationTree,\n",
    "    CalculationTreeType,\n",
    ")\n",
    "\n",
    "\n",
    "from researchpkg.industry_classification.config import (\n",
    "  \n",
    "    SEC_TAX_VERSION,\n",
    "    SEC_TAX,\n",
    "    SEC_TAX_DATA_DIR,\n",
    "    SEC_TAX_MAX_TAGS_DEPTH,\n",
    "    SEC_TAX_MIN_TAGS_DEPTH,\n",
    ")\n",
    "\n",
    "# income Statement tag calculation tree\n",
    "income_statement_calculation_tree = CalculationTree.build_taxonomy_tree(\n",
    "    SEC_TAX_DATA_DIR,\n",
    "    SEC_TAX,\n",
    "    SEC_TAX_VERSION,\n",
    "    type = CalculationTreeType.INCOME_STATEMENT\n",
    ")"
   ]
  },
  {
   "cell_type": "code",
   "execution_count": null,
   "id": "dbf467f930a0c967",
   "metadata": {},
   "outputs": [],
   "source": [
    "income_statement_calculation_tree.display()"
   ]
  },
  {
   "cell_type": "markdown",
   "id": "47553636-fced-4998-9a6b-a0b8b9d6e9a7",
   "metadata": {},
   "source": [
    "## 2. Comparative template"
   ]
  },
  {
   "cell_type": "code",
   "execution_count": null,
   "id": "6e65191c-e445-4fb3-878c-34f3209c4033",
   "metadata": {},
   "outputs": [],
   "source": [
    "DATASET_DIR =os.path.join(ROOT_DIR,\"data/sec_data2/count30_sic1agg_including_is\")\n",
    "comp_dataset  = SecTextTransformerDataset(\n",
    "            dataset_dir= DATASET_DIR,\n",
    "            type=DatasetType.VAL,\n",
    "            tokenizer=tokenizer,\n",
    "            sic_digits=1,\n",
    "            seq_max_length=1536,\n",
    "            balance_sampling=False,\n",
    "            max_tag_depth=10,\n",
    "            max_comparative_pair_depth_gap=2,\n",
    "            template_type=TextTransformerTemplateType.COMPARATIVE\n",
    "        )"
   ]
  },
  {
   "cell_type": "code",
   "execution_count": null,
   "id": "504ea682-f27b-4010-ae49-7d7741d2a0e0",
   "metadata": {},
   "outputs": [],
   "source": [
    "print(comp_dataset.bs_taxonomy_tree.are_in_same_branch(\"CashAndCashEquivalentsAtCarryingValue\",\"AssetsCurrent\"))"
   ]
  },
  {
   "cell_type": "code",
   "execution_count": null,
   "id": "2a6ec51a-27e2-4374-9e2f-04de4ee5effa",
   "metadata": {},
   "outputs": [],
   "source": [
    "import random\n",
    "i = random.choice(list(range(len(comp_dataset))))\n",
    "# i = 76387\n",
    "print(\"Sample\",i,\"\\n----------------\")\n",
    "sample = comp_dataset.__getitem__(i,verbose=True)"
   ]
  },
  {
   "cell_type": "code",
   "execution_count": null,
   "id": "26a8bdc7-786c-4bd6-bcc9-bdede2459515",
   "metadata": {},
   "outputs": [],
   "source": [
    "%timeit\n",
    "for i in range(1):\n",
    "    print(\"Sample\",i,\"\\n----------------\")\n",
    "    sample = comp_dataset.__getitem__(i,verbose=True)"
   ]
  },
  {
   "cell_type": "code",
   "execution_count": null,
   "id": "11c177728dab5b5a",
   "metadata": {},
   "outputs": [],
   "source": [
    "desc_dataset.data_files[sample['sample_idx']]"
   ]
  },
  {
   "cell_type": "markdown",
   "id": "465c65e1-90a6-4763-998a-e8947aede218",
   "metadata": {},
   "source": [
    "# 3. Dataset statistics"
   ]
  },
  {
   "cell_type": "markdown",
   "id": "332e764cdecf1c0",
   "metadata": {},
   "source": [
    "## 3.1. Train dataset target distribution"
   ]
  },
  {
   "cell_type": "code",
   "execution_count": null,
   "id": "693ce515f179b97",
   "metadata": {},
   "outputs": [],
   "source": [
    "import tqdm\n",
    "from collections import Counter\n",
    "import numpy as np\n",
    "train_dataset  = SecTextTransformerDataset(\n",
    "            dataset_dir= DATASET_DIR,\n",
    "            type=DatasetType.TRAIN,\n",
    "            tokenizer=tokenizer,\n",
    "            sic_digits=1,\n",
    "            seq_max_length=1750,\n",
    "            balance_sampling=False,\n",
    "            load_in_memory=False,\n",
    "            template_type=TextTransformerTemplateType.RAW  ,\n",
    "            max_tag_depth=None\n",
    "        )\n",
    "\n",
    "\n",
    "from researchpkg.industry_classification.utils.sics_loader import load_sic_codes\n",
    "def get_file_label(filepath):\n",
    "    df = pd.read_csv(filepath, nrows=1, usecols=[\"cik\"])\n",
    "    cik = df[\"cik\"][0]\n",
    "    sic = train_dataset.registrants_index_dict[cik]\n",
    "    target = train_dataset.sic_id_index[sic]\n",
    "    return target\n",
    "\n",
    "\n",
    "\n",
    "target_list = [\n",
    "    get_file_label(train_dataset.data_files[i])\n",
    "    for i in tqdm.tqdm(range(train_dataset.__len__()), desc=\"Target list\")\n",
    "]\n",
    "\n",
    "sic_code_df = load_sic_codes()[[\"sic\", \"industry_title\"]]\n",
    "sic_to_text = sic_code_df.set_index(\"sic\").to_dict()[\"industry_title\"]\n",
    "\n",
    "accounts_index = train_dataset.accounts_index\n",
    "sic_id_index = train_dataset.sic_id_index\n",
    "sic_reverse_index = {v: k for k, v in train_dataset.sic_id_index.items()}\n",
    "\n",
    "#Labels\n",
    "labels = [sic_to_text[sic_reverse_index[t]] for t in sorted(target_list)]\n",
    "labels_count = Counter(labels)\n",
    "\n",
    "import seaborn as sns\n",
    "import matplotlib.pyplot as plt\n",
    "plt.figure(figsize=(12, 6))\n",
    "sns.barplot(x=list(labels_count.keys()), y=list(labels_count.values()))"
   ]
  },
  {
   "cell_type": "markdown",
   "id": "10e5a79b583104a",
   "metadata": {},
   "source": [
    "## 3.2. Test dataset : target distribution"
   ]
  },
  {
   "cell_type": "code",
   "execution_count": null,
   "id": "52a56560-0f3b-4e24-a9fe-83c237ee12f7",
   "metadata": {},
   "outputs": [],
   "source": [
    "import tqdm\n",
    "from collections import Counter\n",
    "import numpy as np\n",
    "test_dataset  = SecTextTransformerDataset(\n",
    "            dataset_dir= DATASET_DIR,\n",
    "            type=DatasetType.TEST,\n",
    "            tokenizer=tokenizer,\n",
    "            sic_digits=1,\n",
    "            seq_max_length=1750,\n",
    "            balance_sampling=False,\n",
    "            load_in_memory=False,\n",
    "            template_type=TextTransformerTemplateType.RAW  ,\n",
    "            max_tag_depth=None\n",
    "        )\n",
    "\n",
    "\n",
    "from pattern_recognition.industry_classification.utils.sics_loader import load_sic_codes\n",
    "def get_file_label(filepath):\n",
    "    df = pd.read_csv(filepath, nrows=1, usecols=[\"cik\"])\n",
    "    cik = df[\"cik\"][0]\n",
    "    sic = test_dataset.registrants_index_dict[cik]\n",
    "    target = test_dataset.sic_id_index[sic]\n",
    "    return target\n",
    "\n",
    "\n",
    "\n",
    "target_list = [\n",
    "    get_file_label(test_dataset.data_files[i])\n",
    "    for i in tqdm.tqdm(range(test_dataset.__len__()), desc=\"Target list\")\n",
    "]\n",
    "\n",
    "sic_code_df = load_sic_codes()[[\"sic\", \"industry_title\"]]\n",
    "sic_to_text = sic_code_df.set_index(\"sic\").to_dict()[\"industry_title\"]\n",
    "\n",
    "accounts_index = test_dataset.accounts_index\n",
    "sic_id_index = test_dataset.sic_id_index\n",
    "sic_reverse_index = {v: k for k, v in test_dataset.sic_id_index.items()}\n",
    "\n",
    "#Labels\n",
    "labels = [sic_to_text[sic_reverse_index[t]] for t in sorted(target_list)]\n",
    "labels_count = Counter(labels)\n",
    "\n",
    "import seaborn as sns\n",
    "import matplotlib.pyplot as plt\n",
    "plt.figure(figsize=(12, 6))\n",
    "sns.barplot(x=list(labels_count.keys()), y=list(labels_count.values()))\n",
    "\n",
    "\n",
    "\n",
    "\n",
    "\n"
   ]
  },
  {
   "cell_type": "markdown",
   "id": "e6b0a4659009780f",
   "metadata": {},
   "source": [
    "# Text transformer Dataset length distributions"
   ]
  },
  {
   "cell_type": "code",
   "execution_count": null,
   "id": "22bfa4e7",
   "metadata": {},
   "outputs": [],
   "source": [
    "\n",
    "%load_ext autoreload\n",
    "%autoreload\n",
    "\n",
    "import os\n",
    "from researchpkg.industry_classification.config import ROOT_DIR\n",
    "from researchpkg.industry_classification.dataset.sec_transformer_datamodule import SecTextTransformerDataset, TextTransformerTemplateType\n",
    "from researchpkg.industry_classification.dataset.sec_datamodule import DatasetType\n",
    "DATASET_DIR =os.path.join(ROOT_DIR,\"data/sec_data_v2/count30_sic1agg_including_is_2023\")\n",
    "from transformers import  AutoTokenizer\n",
    "tokenizer = AutoTokenizer.from_pretrained(\"TechxGenus/gemma-2b-GPTQ\")\n",
    "tokenizer.pad_token = tokenizer.eos_token\n",
    "tokenizer.padding_side = \"left\"\n",
    "dataset_train  = SecTextTransformerDataset(\n",
    "            dataset_dir= DATASET_DIR,\n",
    "            type=DatasetType.TRAIN,\n",
    "            tokenizer=tokenizer,\n",
    "            sic_digits=1,\n",
    "            seq_max_length=2000,\n",
    "            min_tag_depth=None,\n",
    "            max_tag_depth=5,\n",
    "            balance_sampling=False,\n",
    "            load_in_memory=False,\n",
    "            template_type=TextTransformerTemplateType.COMPARATIVE,\n",
    "        )\n",
    "\n",
    "import seaborn as sns\n",
    "# seq_length_list = [x[\"length\"].item() for x in dataset_train]\n",
    "\n",
    "#Histogram of sequence length\n",
    "# sns.histplot(seq_length_list, bins=100, kde=True)"
   ]
  },
  {
   "cell_type": "code",
   "execution_count": null,
   "id": "16a9a129",
   "metadata": {},
   "outputs": [],
   "source": [
    "out=dataset_train.__getitem__(5,verbose=1)\n"
   ]
  },
  {
   "cell_type": "markdown",
   "id": "07579067",
   "metadata": {},
   "source": [
    "# SFT Dataset : complete instruction length distribution"
   ]
  },
  {
   "cell_type": "code",
   "execution_count": null,
   "id": "89a2d9ec",
   "metadata": {},
   "outputs": [],
   "source": [
    "\n",
    "labels_subtext = f\"\"\"- Mining\n",
    "    - Construction\n",
    "    - Manufacturing\n",
    "    - Transportation & Public Utilities\n",
    "    - Wholesale Trade\n",
    "    - Retail Trade\n",
    "    - Finance\n",
    "    - Services\n",
    "    \"\"\"\n",
    "def partial_instruction_formatter(prompt) -> str:\n",
    "\n",
    "    \n",
    "    return (\n",
    "        \"<start_of_turn>user You are asked to predict the industry sector \"\n",
    "        \"of a company based on its balance sheet and income statement.\\n\"\n",
    "        \"The value of the accounts are normalized by the total assets and given in percentage of totals assets.\\n \"\n",
    "        \"Given the provided informations about the balance sheet and income statement, \"\n",
    "        \"you should predict the most probable industry sector of the \"\n",
    "        \"related company.\\n\"\n",
    "        \"You should answer on a single line with only the name of the predicted \"\n",
    "        \"industry sector and  nothing else.\\n\"\n",
    "        \"Here are the possible industry sectors: \\n\\n\"\n",
    "        f\"{labels_subtext}\\n\"\n",
    "        \"You must strictly respect the spelling of the predicted industry sector.\\n\"\n",
    "        \"\\n<end_of_turn>\\n\"\n",
    "        \"<start_of_turn> user \\n\"\n",
    "        f\"{prompt}\\n<end_of_turn>\\n\"\n",
    "        \"<start_of_turn>model \\n\"\n",
    "        \"Based on the information provided, the most probable industry sector of the company is: \\n\"\n",
    "    )\n",
    "\n",
    "def instruction_formatter(prompt, label) -> str:\n",
    "\n",
    "    return (\n",
    "        partial_instruction_formatter(prompt)+f\"{label} <end_of_turn> \\n\"\n",
    "    )\n"
   ]
  },
  {
   "cell_type": "code",
   "execution_count": null,
   "id": "efcc3cff",
   "metadata": {},
   "outputs": [],
   "source": [
    "%load_ext autoreload\n",
    "%autoreload\n",
    "\n",
    "import os\n",
    "from researchpkg.industry_classification.config import ROOT_DIR\n",
    "from researchpkg.industry_classification.dataset.sec_transformer_datamodule import TextTransformerTemplateType\n",
    "from researchpkg.industry_classification.dataset.sec_transformer_sft_dataset import SecTextTransformerDatasetSFT\n",
    "from researchpkg.industry_classification.dataset.sec_datamodule import DatasetType\n",
    "DATASET_DIR =os.path.join(ROOT_DIR,\"data/sec_data_v2/count30_sic1agg_including_is_2023\")\n",
    "from transformers import  AutoTokenizer\n",
    "tokenizer = AutoTokenizer.from_pretrained(\"TechxGenus/gemma-2b-GPTQ\")\n",
    "tokenizer.pad_token = tokenizer.eos_token\n",
    "tokenizer.padding_side = \"left\"\n",
    "dataset_train  = SecTextTransformerDatasetSFT(\n",
    "            dataset_dir= DATASET_DIR,\n",
    "            type=DatasetType.TRAIN,\n",
    "            tokenizer=tokenizer,\n",
    "            sic_digits=1,\n",
    "            seq_max_length=2000,\n",
    "            max_tag_depth=5,\n",
    "            balance_sampling=False,\n",
    "            load_in_memory=False,\n",
    "            instruction_formatter=instruction_formatter,\n",
    "            partial_instruction_formatter=partial_instruction_formatter,\n",
    "            template_type=TextTransformerTemplateType.DESCRIPTIVE,\n",
    "            bread_first_tree_exploration=False\n",
    "        )\n",
    "\n",
    "import seaborn as sns\n",
    "seq_length_list = [x[\"length\"].item() for x in dataset_train]\n",
    "\n",
    "#Histogram of sequence length\n",
    "sns.histplot(seq_length_list, bins=100, kde=True)"
   ]
  },
  {
   "cell_type": "code",
   "execution_count": null,
   "id": "ccb8aa99",
   "metadata": {},
   "outputs": [],
   "source": [
    "print(dataset_train[8][\"complete_instruction\"])\n"
   ]
  },
  {
   "cell_type": "code",
   "execution_count": null,
   "id": "407474f1",
   "metadata": {},
   "outputs": [],
   "source": [
    "dataset_train.bs_taxonomy_tree.get_node_by_concept_name(\"AssetsCurrent\").number"
   ]
  },
  {
   "cell_type": "markdown",
   "id": "d38008a3",
   "metadata": {},
   "source": [
    "## Descriptive Relative template"
   ]
  },
  {
   "cell_type": "code",
   "execution_count": null,
   "id": "1e8d6f70",
   "metadata": {},
   "outputs": [],
   "source": [
    "labels_subtext = f\"\"\"\n",
    "- Mining\n",
    "- Construction\n",
    "- Manufacturing\n",
    "- Transportation & Public Utilities\n",
    "- Wholesale Trade\n",
    "- Retail Trade\n",
    "- Finance\n",
    "- Services\n",
    "\"\"\"\n",
    "def partial_instruction_formatter(prompt) -> str:\n",
    "\n",
    "    return (\n",
    "        \"<|begin_of_text|><|start_header_id|>system<|end_header_id|>\\n\"\n",
    "        \"You are asked to predict the industry sector \"\n",
    "        \"of a company based on its balance sheet and income statement.\\n\"\n",
    "        \"The value of the accounts are normalized by the total assets and given in percentage of totals assets.\\n \"\n",
    "        \"Given the provided informations about the balance sheet and income statement, \"\n",
    "        \"you should predict the most probable industry sector of the \"\n",
    "        \"related company.\\n\"\n",
    "        \"You should answer on a single line with the name of the predicted \"\n",
    "        \"industry sector and \\n\"\n",
    "        \"Here are the possible industry sectors: \\n\"\n",
    "        f\"{labels_subtext}\\n\"\n",
    "        \"\\n\\n You must strictly respect the spelling of the predicted industry sector.\\n\"\n",
    "        \"<|eot_id|>\"\n",
    "        f\"<|start_header_id|>user<|end_header_id|> {prompt} <|eot_id|>\\n\"\n",
    "        \"<|start_header_id|>assistant<|end_header_id|> Based on the information provided, the most probable industry sector of the company is: \\n\"\n",
    "    )\n",
    "def instruction_formatter(prompt, label) -> str:\n",
    "\n",
    "    return (\n",
    "        partial_instruction_formatter(prompt)+f\"{label} <end_of_turn> \\n\"\n",
    "    )\n"
   ]
  },
  {
   "cell_type": "code",
   "execution_count": null,
   "id": "ded61b6a",
   "metadata": {},
   "outputs": [],
   "source": [
    "%load_ext autoreload\n",
    "%autoreload\n",
    "\n",
    "import os\n",
    "from researchpkg.industry_classification.config import ROOT_DIR\n",
    "from researchpkg.industry_classification.dataset.sec_transformer_sft_dataset import TextTransformerTemplateType\n",
    "from researchpkg.industry_classification.dataset.sec_transformer_sft_dataset import SecTextTransformerDatasetSFT\n",
    "from researchpkg.industry_classification.dataset.sec_datamodule import DatasetType\n",
    "DATASET_DIR =os.path.join(ROOT_DIR,\"data/sec_data_v2/count30_sic1agg_including_is_2023\")\n",
    "from transformers import  AutoTokenizer\n",
    "tokenizer = AutoTokenizer.from_pretrained(\"hugging-quants/Meta-Llama-3.1-8B-Instruct-GPTQ-INT4\")\n",
    "tokenizer.pad_token = tokenizer.eos_token\n",
    "tokenizer.padding_side = \"left\"\n",
    "dataset_train  = SecTextTransformerDatasetSFT(\n",
    "            dataset_dir= DATASET_DIR,\n",
    "            type=DatasetType.TRAIN,\n",
    "            tokenizer=tokenizer,\n",
    "            sic_digits=1,\n",
    "            seq_max_length=2000,\n",
    "            max_tag_depth=5,\n",
    "            balance_sampling=False,\n",
    "            load_in_memory=False,\n",
    "            instruction_formatter=instruction_formatter,\n",
    "            partial_instruction_formatter=partial_instruction_formatter,\n",
    "            template_type=TextTransformerTemplateType.RAW,\n",
    "            bread_first_tree_exploration=False\n",
    "        )"
   ]
  },
  {
   "cell_type": "code",
   "execution_count": null,
   "id": "8be5d914",
   "metadata": {},
   "outputs": [],
   "source": [
    "print(dataset_train[10][\"complete_instruction\"])"
   ]
  },
  {
   "cell_type": "code",
   "execution_count": null,
   "id": "7515b946",
   "metadata": {},
   "outputs": [],
   "source": [
    "import seaborn as sns\n",
    "seq_length_list = [x[\"length\"].item() for x in dataset_train]\n",
    "\n",
    "#Histogram of sequence length\n",
    "sns.histplot(seq_length_list, bins=100, kde=True)"
   ]
  },
  {
   "cell_type": "code",
   "execution_count": null,
   "id": "d29e46b5",
   "metadata": {},
   "outputs": [],
   "source": []
  },
  {
   "cell_type": "markdown",
   "id": "084f236a",
   "metadata": {},
   "source": [
    "# Dataset NO CHANGES"
   ]
  },
  {
   "cell_type": "code",
   "execution_count": null,
   "id": "316da2d2",
   "metadata": {},
   "outputs": [],
   "source": [
    "labels_subtext = f\"\"\"\n",
    "- Mining\n",
    "- Construction\n",
    "- Manufacturing\n",
    "- Transportation & Public Utilities\n",
    "- Wholesale Trade\n",
    "- Retail Trade\n",
    "- Finance\n",
    "- Services\n",
    "\"\"\"\n",
    "\n",
    "def partial_instruction_formatter(prompt) -> str:\n",
    "    return (\n",
    "        \"<start_of_turn>user You are asked to predict the industry sector \"\n",
    "        \"of a company based on its balance sheet and income statement.\\n\"\n",
    "        \"You are given the list of all accounts name in the balance sheet and income statement.\\n\"\n",
    "        \"Based on that list you should indicate the most probable industry sector of the \"\n",
    "        \"related company.\\n\"\n",
    "        \"Here are the possible industry sectors: \\n\\n\"\n",
    "        f\"{labels_subtext}\\n\"\n",
    "        \"You must strictly respect the spelling of the predicted industry sector.\\n\"\n",
    "        \"\\n<end_of_turn>\\n\"\n",
    "        \"<start_of_turn> user \\n\"\n",
    "        f\"{prompt}\\n<end_of_turn>\\n\"\n",
    "        \"<start_of_turn>model \\n\"\n",
    "        \"Based on the information provided, the most probable industry sector of the company is: \\n\"\n",
    "    )\n",
    "\n",
    "def instruction_formatter(prompt, label) -> str:\n",
    "\n",
    "    return partial_instruction_formatter(prompt) + f\"{label} <end_of_turn> \\n\""
   ]
  },
  {
   "cell_type": "code",
   "execution_count": null,
   "id": "1703cf14",
   "metadata": {},
   "outputs": [],
   "source": [
    "%load_ext autoreload\n",
    "%autoreload\n",
    "\n",
    "import os\n",
    "from researchpkg.industry_classification.config import ROOT_DIR\n",
    "from researchpkg.industry_classification.dataset.sec_transformer_sft_dataset import TextTransformerTemplateType\n",
    "from researchpkg.industry_classification.dataset.sec_transformer_sft_dataset import SecTextTransformerDatasetSFT\n",
    "from researchpkg.industry_classification.dataset.sec_datamodule import DatasetType\n",
    "DATASET_DIR =os.path.join(ROOT_DIR,\"data/sec_data_v2/count30_sic1agg_including_is_2023\")\n",
    "from transformers import  AutoTokenizer\n",
    "tokenizer = AutoTokenizer.from_pretrained(\"TechxGenus/gemma-2b-GPTQ\")\n",
    "tokenizer.pad_token = tokenizer.eos_token\n",
    "tokenizer.padding_side = \"left\"\n",
    "dataset_train  = SecTextTransformerDatasetSFT(\n",
    "            dataset_dir= DATASET_DIR,\n",
    "            type=DatasetType.TRAIN,\n",
    "            tokenizer=tokenizer,\n",
    "            sic_digits=1,\n",
    "            seq_max_length=2000,\n",
    "            max_tag_depth=None,\n",
    "            balance_sampling=False,\n",
    "            load_in_memory=False,\n",
    "            instruction_formatter=instruction_formatter,\n",
    "            partial_instruction_formatter=partial_instruction_formatter,\n",
    "            template_type=TextTransformerTemplateType.NO_CHANGE,\n",
    "            bread_first_tree_exploration=False\n",
    "        )\n",
    "\n"
   ]
  },
  {
   "cell_type": "code",
   "execution_count": null,
   "id": "c101d11b",
   "metadata": {},
   "outputs": [],
   "source": [
    "print(dataset_train[10][\"complete_instruction\"])"
   ]
  },
  {
   "cell_type": "code",
   "execution_count": null,
   "id": "eb76f2ec",
   "metadata": {},
   "outputs": [],
   "source": [
    "import seaborn as sns\n",
    "seq_length_list = [x[\"length\"].item() for x in dataset_train]\n",
    "\n",
    "#Histogram of sequence length\n",
    "sns.histplot(seq_length_list, bins=100, kde=True)"
   ]
  },
  {
   "cell_type": "markdown",
   "id": "e98e2e22",
   "metadata": {},
   "source": [
    "## Dataset with explanation prompt"
   ]
  },
  {
   "cell_type": "code",
   "execution_count": null,
   "id": "6ba72b2f",
   "metadata": {},
   "outputs": [],
   "source": [
    "labels_subtext = f\"\"\"\n",
    "- Mining\n",
    "- Construction\n",
    "- Manufacturing\n",
    "- Transportation & Public Utilities\n",
    "- Wholesale Trade\n",
    "- Retail Trade\n",
    "- Finance\n",
    "- Services\n",
    "\"\"\"\n",
    "def partial_instruction_formatter(prompt) -> str:\n",
    "\n",
    "    return (\n",
    "        \"<|begin_of_text|><|start_header_id|>system<|end_header_id|>\\n\"\n",
    "        \"You are asked to predict the industry sector \"\n",
    "        \"of a company based on its balance sheet and income statement.\\n\"\n",
    "        \"The value of the accounts are normalized by the total assets and given in percentage of totals assets.\\n \"\n",
    "        \"Given the provided informations about the balance sheet and income statement, \"\n",
    "        \"you should predict the most probable industry sector of the \"\n",
    "        \"related company.\\n\"\n",
    "        \"You should answer on a single line with the name of the predicted \"\n",
    "        \"industry sector and \\n\"\n",
    "        \"Here are the possible industry sectors: \\n\"\n",
    "        f\"{labels_subtext}\\n\"\n",
    "        \"\\n\\n You must strictly respect the spelling of the predicted industry sector.\\n\"\n",
    "        \"<|eot_id|>\"\n",
    "        f\"<|start_header_id|>user<|end_header_id|> {prompt} <|eot_id|>\\n\"\n",
    "        \"<|start_header_id|>assistant<|end_header_id|> Based on the information provided, the most probable industry sector of the company is: \\n\"\n",
    "    )\n",
    "def instruction_formatter(prompt, label) -> str:\n",
    "\n",
    "    return (\n",
    "        partial_instruction_formatter(prompt)+f\"{label} <end_of_turn> \\n\"\n",
    "    )\n"
   ]
  },
  {
   "cell_type": "code",
   "execution_count": null,
   "id": "4eb2a053",
   "metadata": {},
   "outputs": [],
   "source": [
    "%load_ext autoreload\n",
    "%autoreload\n",
    "\n",
    "import os\n",
    "from researchpkg.industry_classification.config import ROOT_DIR\n",
    "from researchpkg.industry_classification.dataset.sec_transformer_sft_dataset import TextTransformerTemplateType\n",
    "from researchpkg.industry_classification.dataset.sec_transformer_sft_dataset import SecTextTransformerDatasetSFT\n",
    "from researchpkg.industry_classification.dataset.sec_datamodule import DatasetType\n",
    "DATASET_DIR =os.path.join(ROOT_DIR,\"data/sec_data_v2/count30_sic1agg_including_is_2023\")\n",
    "from transformers import  AutoTokenizer\n",
    "tokenizer = AutoTokenizer.from_pretrained(\"hugging-quants/Meta-Llama-3.1-8B-Instruct-GPTQ-INT4\")\n",
    "tokenizer.pad_token = tokenizer.eos_token\n",
    "tokenizer.padding_side = \"left\"\n",
    "dataset_train  = SecTextTransformerDatasetSFT(\n",
    "            dataset_dir= DATASET_DIR,\n",
    "            type=DatasetType.TEST,\n",
    "            tokenizer=tokenizer,\n",
    "            sic_digits=1,\n",
    "            seq_max_length=2000,\n",
    "            max_tag_depth=5,\n",
    "            balance_sampling=False,\n",
    "            load_in_memory=False,\n",
    "            instruction_formatter=instruction_formatter,\n",
    "            partial_instruction_formatter=partial_instruction_formatter,\n",
    "            template_type=TextTransformerTemplateType.DESCRIPTIVE,\n",
    "            bread_first_tree_exploration=False)"
   ]
  },
  {
   "cell_type": "code",
   "execution_count": null,
   "id": "29de5f6d",
   "metadata": {},
   "outputs": [],
   "source": [
    "explanation_instruction = \"<|start_header_id|>user<|end_header_id|> Please provide a justification of  your answer. <|eot_id|>\\n\"\n",
    "explanation_instruction += \"<|start_header_id|>assistant<|end_header_id|>\"\n",
    "\n",
    "dataset_exp = dataset_train.get_sft_dataset_with_explanation_prompt(\n",
    "    explanation_prompt=explanation_instruction,\n",
    "    y_pred_list=[\"Wholesale Trade,Finance\"]*len(dataset_train)\n",
    ")"
   ]
  },
  {
   "cell_type": "code",
   "execution_count": null,
   "id": "0b0d9d37",
   "metadata": {},
   "outputs": [],
   "source": [
    "len(tokenizer.encode(dataset_exp[\"text_with_explanation_prompt\"][0]))"
   ]
  }
 ],
 "metadata": {
  "kernelspec": {
   "display_name": "Python 3 (ipykernel)",
   "language": "python",
   "name": "python3"
  },
  "language_info": {
   "codemirror_mode": {
    "name": "ipython",
    "version": 3
   },
   "file_extension": ".py",
   "mimetype": "text/x-python",
   "name": "python",
   "nbconvert_exporter": "python",
   "pygments_lexer": "ipython3",
   "version": "3.10.12"
  }
 },
 "nbformat": 4,
 "nbformat_minor": 5
}
